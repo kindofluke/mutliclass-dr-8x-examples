{
 "cells": [
  {
   "cell_type": "markdown",
   "metadata": {},
   "source": [
    "# Modeling\n",
    "\n",
    "The [RealWaste](https://archive.ics.uci.edu/dataset/908/realwaste) dataset already includes a \"Miscellanous\" class but for the sake of demonstration we will also group textiles into this other class to demonstrate how to configure Class Aggregation with the datarobot api. "
   ]
  },
  {
   "cell_type": "code",
   "execution_count": 2,
   "metadata": {},
   "outputs": [
    {
     "data": {
      "text/plain": [
       "<datarobot.rest.RESTClientObject at 0x106b1b040>"
      ]
     },
     "execution_count": 2,
     "metadata": {},
     "output_type": "execute_result"
    }
   ],
   "source": [
    "import datarobot as dr \n",
    "\n",
    "# Create your client\n",
    "dr.Client(config_path=\"/Users/luke.shulman/.config/datarobot/drconfig.yml\")\n",
    "\n"
   ]
  },
  {
   "cell_type": "code",
   "execution_count": 3,
   "metadata": {},
   "outputs": [],
   "source": [
    "\n",
    "\n",
    "project = dr.Project.create(\"data/real_waste_data_sampled.csv\", project_name=\"Multiclass Example\", max_wait=1000)\n"
   ]
  },
  {
   "cell_type": "markdown",
   "metadata": {},
   "source": [
    "We create the ClassMapping helper class and then pass that `set_target`. This should preserve at least 6 of the 9 classes while creating a final class \"DR_OTHER\". "
   ]
  },
  {
   "cell_type": "code",
   "execution_count": 4,
   "metadata": {},
   "outputs": [
    {
     "data": {
      "text/plain": [
       "Project(Multiclass Example)"
      ]
     },
     "execution_count": 4,
     "metadata": {},
     "output_type": "execute_result"
    }
   ],
   "source": [
    "class_mapping = dr.helpers.ClassMappingAggregationSettings(max_unaggregated_class_values=6, excluded_from_aggregation=['Food Organics', 'Glass','Metal','Paper', 'Plastic'], aggregation_class_name=\"DR_OTHER\")\n",
    "\n",
    "project.set_target(\n",
    "    target=\"main_class\",\n",
    "    target_type=\"Multiclass\",\n",
    "    class_mapping_aggregation_settings=class_mapping,\n",
    "    mode=\"quick\",\n",
    ")\n",
    "\n"
   ]
  },
  {
   "cell_type": "code",
   "execution_count": 5,
   "metadata": {},
   "outputs": [
    {
     "name": "stdout",
     "output_type": "stream",
     "text": [
      "In progress: 3, queued: 0 (waited: 0s)\n",
      "In progress: 3, queued: 0 (waited: 1s)\n",
      "In progress: 3, queued: 0 (waited: 2s)\n",
      "In progress: 3, queued: 0 (waited: 3s)\n",
      "In progress: 3, queued: 0 (waited: 4s)\n",
      "In progress: 3, queued: 0 (waited: 7s)\n",
      "In progress: 3, queued: 0 (waited: 11s)\n",
      "In progress: 2, queued: 0 (waited: 18s)\n",
      "In progress: 2, queued: 0 (waited: 31s)\n",
      "In progress: 1, queued: 0 (waited: 52s)\n",
      "In progress: 8, queued: 4 (waited: 72s)\n",
      "In progress: 8, queued: 4 (waited: 93s)\n",
      "In progress: 8, queued: 1 (waited: 113s)\n",
      "In progress: 2, queued: 0 (waited: 134s)\n",
      "In progress: 0, queued: 0 (waited: 154s)\n",
      "In progress: 0, queued: 0 (waited: 175s)\n",
      "In progress: 0, queued: 0 (waited: 196s)\n",
      "In progress: 0, queued: 0 (waited: 217s)\n",
      "In progress: 1, queued: 0 (waited: 237s)\n",
      "In progress: 1, queued: 0 (waited: 258s)\n",
      "In progress: 1, queued: 0 (waited: 278s)\n",
      "In progress: 1, queued: 0 (waited: 299s)\n",
      "In progress: 1, queued: 0 (waited: 320s)\n",
      "In progress: 0, queued: 0 (waited: 340s)\n",
      "In progress: 0, queued: 0 (waited: 360s)\n",
      "In progress: 0, queued: 0 (waited: 381s)\n",
      "In progress: 0, queued: 0 (waited: 402s)\n",
      "In progress: 0, queued: 0 (waited: 422s)\n",
      "In progress: 0, queued: 0 (waited: 443s)\n",
      "In progress: 0, queued: 0 (waited: 463s)\n",
      "In progress: 0, queued: 0 (waited: 484s)\n"
     ]
    }
   ],
   "source": [
    "# Optional Will block Execution until auto pilot is complete\n",
    "project.wait_for_autopilot()"
   ]
  },
  {
   "cell_type": "markdown",
   "metadata": {},
   "source": [
    "## Evaluation of the Models\n",
    "\n",
    "With the models built, we can examine how the model is performing. \n"
   ]
  },
  {
   "cell_type": "code",
   "execution_count": 9,
   "metadata": {},
   "outputs": [],
   "source": [
    "best_model = project.get_models()[0]\n",
    "\n",
    "\n",
    "con_chart = best_model.get_confusion_chart(source=dr.enums.CHART_DATA_SOURCE.VALIDATION,  fallback_to_parent_insights=True)"
   ]
  },
  {
   "cell_type": "code",
   "execution_count": 10,
   "metadata": {},
   "outputs": [
    {
     "data": {
      "text/html": [
       "\n",
       "<style>\n",
       "  #altair-viz-4b7d471b13ad47a6bf60b0dd98c754d1.vega-embed {\n",
       "    width: 100%;\n",
       "    display: flex;\n",
       "  }\n",
       "\n",
       "  #altair-viz-4b7d471b13ad47a6bf60b0dd98c754d1.vega-embed details,\n",
       "  #altair-viz-4b7d471b13ad47a6bf60b0dd98c754d1.vega-embed details summary {\n",
       "    position: relative;\n",
       "  }\n",
       "</style>\n",
       "<div id=\"altair-viz-4b7d471b13ad47a6bf60b0dd98c754d1\"></div>\n",
       "<script type=\"text/javascript\">\n",
       "  var VEGA_DEBUG = (typeof VEGA_DEBUG == \"undefined\") ? {} : VEGA_DEBUG;\n",
       "  (function(spec, embedOpt){\n",
       "    let outputDiv = document.currentScript.previousElementSibling;\n",
       "    if (outputDiv.id !== \"altair-viz-4b7d471b13ad47a6bf60b0dd98c754d1\") {\n",
       "      outputDiv = document.getElementById(\"altair-viz-4b7d471b13ad47a6bf60b0dd98c754d1\");\n",
       "    }\n",
       "\n",
       "    const paths = {\n",
       "      \"vega\": \"https://cdn.jsdelivr.net/npm/vega@5?noext\",\n",
       "      \"vega-lib\": \"https://cdn.jsdelivr.net/npm/vega-lib?noext\",\n",
       "      \"vega-lite\": \"https://cdn.jsdelivr.net/npm/vega-lite@5.20.1?noext\",\n",
       "      \"vega-embed\": \"https://cdn.jsdelivr.net/npm/vega-embed@6?noext\",\n",
       "    };\n",
       "\n",
       "    function maybeLoadScript(lib, version) {\n",
       "      var key = `${lib.replace(\"-\", \"\")}_version`;\n",
       "      return (VEGA_DEBUG[key] == version) ?\n",
       "        Promise.resolve(paths[lib]) :\n",
       "        new Promise(function(resolve, reject) {\n",
       "          var s = document.createElement('script');\n",
       "          document.getElementsByTagName(\"head\")[0].appendChild(s);\n",
       "          s.async = true;\n",
       "          s.onload = () => {\n",
       "            VEGA_DEBUG[key] = version;\n",
       "            return resolve(paths[lib]);\n",
       "          };\n",
       "          s.onerror = () => reject(`Error loading script: ${paths[lib]}`);\n",
       "          s.src = paths[lib];\n",
       "        });\n",
       "    }\n",
       "\n",
       "    function showError(err) {\n",
       "      outputDiv.innerHTML = `<div class=\"error\" style=\"color:red;\">${err}</div>`;\n",
       "      throw err;\n",
       "    }\n",
       "\n",
       "    function displayChart(vegaEmbed) {\n",
       "      vegaEmbed(outputDiv, spec, embedOpt)\n",
       "        .catch(err => showError(`Javascript Error: ${err.message}<br>This usually means there's a typo in your chart specification. See the javascript console for the full traceback.`));\n",
       "    }\n",
       "\n",
       "    if(typeof define === \"function\" && define.amd) {\n",
       "      requirejs.config({paths});\n",
       "      let deps = [\"vega-embed\"];\n",
       "      require(deps, displayChart, err => showError(`Error loading script: ${err.message}`));\n",
       "    } else {\n",
       "      maybeLoadScript(\"vega\", \"5\")\n",
       "        .then(() => maybeLoadScript(\"vega-lite\", \"5.20.1\"))\n",
       "        .then(() => maybeLoadScript(\"vega-embed\", \"6\"))\n",
       "        .catch(showError)\n",
       "        .then(() => displayChart(vegaEmbed));\n",
       "    }\n",
       "  })({\"config\": {\"view\": {\"continuousWidth\": 300, \"continuousHeight\": 300}}, \"data\": {\"name\": \"data-0420b3b3c938ad04a9c2740b570ed39a\"}, \"mark\": {\"type\": \"bar\"}, \"encoding\": {\"color\": {\"field\": \"Test\", \"type\": \"nominal\"}, \"column\": {\"field\": \"class_name\", \"type\": \"nominal\"}, \"x\": {\"axis\": {\"labels\": false, \"ticks\": false}, \"field\": \"Test\", \"title\": null, \"type\": \"nominal\"}, \"y\": {\"field\": \"value\", \"title\": \"Number of Instances\", \"type\": \"quantitative\"}}, \"title\": \"Actual vs. Predicted\", \"$schema\": \"https://vega.github.io/schema/vega-lite/v5.20.1.json\", \"datasets\": {\"data-0420b3b3c938ad04a9c2740b570ed39a\": [{\"class_name\": \"DR_OTHER\", \"Test\": \"actual_count\", \"value\": 33}, {\"class_name\": \"Food Organics\", \"Test\": \"actual_count\", \"value\": 8}, {\"class_name\": \"Glass\", \"Test\": \"actual_count\", \"value\": 10}, {\"class_name\": \"Metal\", \"Test\": \"actual_count\", \"value\": 7}, {\"class_name\": \"Paper\", \"Test\": \"actual_count\", \"value\": 17}, {\"class_name\": \"Plastic\", \"Test\": \"actual_count\", \"value\": 5}, {\"class_name\": \"DR_OTHER\", \"Test\": \"predicted_count\", \"value\": 30}, {\"class_name\": \"Food Organics\", \"Test\": \"predicted_count\", \"value\": 9}, {\"class_name\": \"Glass\", \"Test\": \"predicted_count\", \"value\": 10}, {\"class_name\": \"Metal\", \"Test\": \"predicted_count\", \"value\": 9}, {\"class_name\": \"Paper\", \"Test\": \"predicted_count\", \"value\": 14}, {\"class_name\": \"Plastic\", \"Test\": \"predicted_count\", \"value\": 8}]}}, {\"mode\": \"vega-lite\"});\n",
       "</script>"
      ],
      "text/plain": [
       "alt.Chart(...)"
      ]
     },
     "execution_count": 10,
     "metadata": {},
     "output_type": "execute_result"
    }
   ],
   "source": [
    "import altair as alt\n",
    "import pandas as pd \n",
    "\n",
    "dtc = pd.DataFrame([{'class_name': c['class_name'], 'actual_count':c['actual_count'], 'predicted_count':c['predicted_count']} for c in  con_chart.class_metrics])\n",
    "dtc = dtc.melt(id_vars=['class_name'], value_vars=['actual_count', 'predicted_count'], var_name=\"Test\")\n",
    "dtc\n",
    "\n",
    "\n",
    "alt.Chart(dtc, title=\"Actual vs. Predicted\").mark_bar().encode(\n",
    "    alt.Column('class_name:N'),\n",
    "\n",
    "    alt.Color('Test:N'), \n",
    "    alt.X('Test:N', axis=alt.Axis(labels=False, ticks=False), title=None),\n",
    "\n",
    "    alt.Y('value:Q', title='Number of Instances')\n",
    "\n",
    ")\n",
    "\n"
   ]
  },
  {
   "cell_type": "markdown",
   "metadata": {},
   "source": [
    "Let's examine the class probabilities to understand how we might apply thresholding. \n"
   ]
  },
  {
   "cell_type": "code",
   "execution_count": 11,
   "metadata": {},
   "outputs": [],
   "source": [
    "try:\n",
    "    prediction_job = best_model.request_training_predictions(data_subset='validation')\n",
    "    train_preds = prediction_job.get_result_when_complete() \n",
    "except dr.errors.ClientError:\n",
    "    all_training_predictions = dr.TrainingPredictions.list(project.id)\n",
    "    train_preds = [tp for tp in all_training_predictions if tp.model_id == best_model.id][0]\n",
    "\n",
    "\n",
    "df = train_preds.get_all_as_dataframe()"
   ]
  },
  {
   "cell_type": "code",
   "execution_count": 12,
   "metadata": {},
   "outputs": [
    {
     "data": {
      "text/html": [
       "<div>\n",
       "<style scoped>\n",
       "    .dataframe tbody tr th:only-of-type {\n",
       "        vertical-align: middle;\n",
       "    }\n",
       "\n",
       "    .dataframe tbody tr th {\n",
       "        vertical-align: top;\n",
       "    }\n",
       "\n",
       "    .dataframe thead th {\n",
       "        text-align: right;\n",
       "    }\n",
       "</style>\n",
       "<table border=\"1\" class=\"dataframe\">\n",
       "  <thead>\n",
       "    <tr style=\"text-align: right;\">\n",
       "      <th></th>\n",
       "      <th>row_id</th>\n",
       "      <th>class_DR_OTHER</th>\n",
       "      <th>class_Food Organics</th>\n",
       "      <th>class_Glass</th>\n",
       "      <th>class_Metal</th>\n",
       "      <th>class_Paper</th>\n",
       "      <th>class_Plastic</th>\n",
       "    </tr>\n",
       "  </thead>\n",
       "  <tbody>\n",
       "    <tr>\n",
       "      <th>count</th>\n",
       "      <td>80.000000</td>\n",
       "      <td>80.000000</td>\n",
       "      <td>80.000000</td>\n",
       "      <td>80.000000</td>\n",
       "      <td>80.000000</td>\n",
       "      <td>80.000000</td>\n",
       "      <td>80.000000</td>\n",
       "    </tr>\n",
       "    <tr>\n",
       "      <th>mean</th>\n",
       "      <td>25658.750000</td>\n",
       "      <td>36.354732</td>\n",
       "      <td>11.570927</td>\n",
       "      <td>13.468319</td>\n",
       "      <td>12.543796</td>\n",
       "      <td>17.039046</td>\n",
       "      <td>9.023179</td>\n",
       "    </tr>\n",
       "    <tr>\n",
       "      <th>std</th>\n",
       "      <td>14451.040817</td>\n",
       "      <td>40.012910</td>\n",
       "      <td>28.782546</td>\n",
       "      <td>27.668728</td>\n",
       "      <td>24.714265</td>\n",
       "      <td>29.796766</td>\n",
       "      <td>19.128345</td>\n",
       "    </tr>\n",
       "    <tr>\n",
       "      <th>min</th>\n",
       "      <td>2100.000000</td>\n",
       "      <td>0.010644</td>\n",
       "      <td>0.002624</td>\n",
       "      <td>0.002660</td>\n",
       "      <td>0.000310</td>\n",
       "      <td>0.005502</td>\n",
       "      <td>0.001873</td>\n",
       "    </tr>\n",
       "    <tr>\n",
       "      <th>25%</th>\n",
       "      <td>12100.000000</td>\n",
       "      <td>2.385992</td>\n",
       "      <td>0.156653</td>\n",
       "      <td>0.141372</td>\n",
       "      <td>0.107705</td>\n",
       "      <td>0.380689</td>\n",
       "      <td>0.216106</td>\n",
       "    </tr>\n",
       "    <tr>\n",
       "      <th>50%</th>\n",
       "      <td>25800.000000</td>\n",
       "      <td>13.737556</td>\n",
       "      <td>0.618354</td>\n",
       "      <td>1.321964</td>\n",
       "      <td>0.828448</td>\n",
       "      <td>2.173581</td>\n",
       "      <td>1.122535</td>\n",
       "    </tr>\n",
       "    <tr>\n",
       "      <th>75%</th>\n",
       "      <td>40075.000000</td>\n",
       "      <td>77.595617</td>\n",
       "      <td>3.645029</td>\n",
       "      <td>6.935243</td>\n",
       "      <td>9.934916</td>\n",
       "      <td>13.554327</td>\n",
       "      <td>4.685120</td>\n",
       "    </tr>\n",
       "    <tr>\n",
       "      <th>max</th>\n",
       "      <td>48700.000000</td>\n",
       "      <td>99.938464</td>\n",
       "      <td>99.845302</td>\n",
       "      <td>98.895675</td>\n",
       "      <td>98.957574</td>\n",
       "      <td>99.932086</td>\n",
       "      <td>84.018409</td>\n",
       "    </tr>\n",
       "  </tbody>\n",
       "</table>\n",
       "</div>"
      ],
      "text/plain": [
       "             row_id  class_DR_OTHER  class_Food Organics  class_Glass  \\\n",
       "count     80.000000       80.000000            80.000000    80.000000   \n",
       "mean   25658.750000       36.354732            11.570927    13.468319   \n",
       "std    14451.040817       40.012910            28.782546    27.668728   \n",
       "min     2100.000000        0.010644             0.002624     0.002660   \n",
       "25%    12100.000000        2.385992             0.156653     0.141372   \n",
       "50%    25800.000000       13.737556             0.618354     1.321964   \n",
       "75%    40075.000000       77.595617             3.645029     6.935243   \n",
       "max    48700.000000       99.938464            99.845302    98.895675   \n",
       "\n",
       "       class_Metal  class_Paper  class_Plastic  \n",
       "count    80.000000    80.000000      80.000000  \n",
       "mean     12.543796    17.039046       9.023179  \n",
       "std      24.714265    29.796766      19.128345  \n",
       "min       0.000310     0.005502       0.001873  \n",
       "25%       0.107705     0.380689       0.216106  \n",
       "50%       0.828448     2.173581       1.122535  \n",
       "75%       9.934916    13.554327       4.685120  \n",
       "max      98.957574    99.932086      84.018409  "
      ]
     },
     "execution_count": 12,
     "metadata": {},
     "output_type": "execute_result"
    }
   ],
   "source": [
    "(df * 100).describe()"
   ]
  },
  {
   "cell_type": "markdown",
   "metadata": {},
   "source": [
    "For illustration, let's set a threshold of 75% "
   ]
  },
  {
   "cell_type": "code",
   "execution_count": 15,
   "metadata": {},
   "outputs": [
    {
     "data": {
      "text/html": [
       "<div>\n",
       "<style scoped>\n",
       "    .dataframe tbody tr th:only-of-type {\n",
       "        vertical-align: middle;\n",
       "    }\n",
       "\n",
       "    .dataframe tbody tr th {\n",
       "        vertical-align: top;\n",
       "    }\n",
       "\n",
       "    .dataframe thead th {\n",
       "        text-align: right;\n",
       "    }\n",
       "</style>\n",
       "<table border=\"1\" class=\"dataframe\">\n",
       "  <thead>\n",
       "    <tr style=\"text-align: right;\">\n",
       "      <th></th>\n",
       "      <th>high_confidence</th>\n",
       "    </tr>\n",
       "    <tr>\n",
       "      <th>prediction</th>\n",
       "      <th></th>\n",
       "    </tr>\n",
       "  </thead>\n",
       "  <tbody>\n",
       "    <tr>\n",
       "      <th>DR_OTHER</th>\n",
       "      <td>22</td>\n",
       "    </tr>\n",
       "    <tr>\n",
       "      <th>Food Organics</th>\n",
       "      <td>8</td>\n",
       "    </tr>\n",
       "    <tr>\n",
       "      <th>Glass</th>\n",
       "      <td>7</td>\n",
       "    </tr>\n",
       "    <tr>\n",
       "      <th>Metal</th>\n",
       "      <td>5</td>\n",
       "    </tr>\n",
       "    <tr>\n",
       "      <th>Paper</th>\n",
       "      <td>9</td>\n",
       "    </tr>\n",
       "    <tr>\n",
       "      <th>Plastic</th>\n",
       "      <td>2</td>\n",
       "    </tr>\n",
       "  </tbody>\n",
       "</table>\n",
       "</div>"
      ],
      "text/plain": [
       "               high_confidence\n",
       "prediction                    \n",
       "DR_OTHER                    22\n",
       "Food Organics                8\n",
       "Glass                        7\n",
       "Metal                        5\n",
       "Paper                        9\n",
       "Plastic                      2"
      ]
     },
     "execution_count": 15,
     "metadata": {},
     "output_type": "execute_result"
    }
   ],
   "source": [
    "THRESHOLD = 0.75\n",
    "class_columns = [col for col in df.columns if col.startswith('class_')]\n",
    "\n",
    "\n",
    "df['high_confidence'] = (df[class_columns] > THRESHOLD).any(axis=1).astype(int)\n",
    "\n",
    "# Display the result (note this is just for the validation \n",
    "df[['prediction', 'high_confidence']].groupby('prediction').sum()"
   ]
  },
  {
   "cell_type": "markdown",
   "metadata": {},
   "source": [
    "### Class Names\n",
    "\n",
    "This cell will output the class names which are needed for the next step. \n",
    "\n"
   ]
  },
  {
   "cell_type": "code",
   "execution_count": 14,
   "metadata": {},
   "outputs": [
    {
     "name": "stdout",
     "output_type": "stream",
     "text": [
      "[\n",
      " \"DR_OTHER\",\n",
      " \"Paper\",\n",
      " \"Glass\",\n",
      " \"Food Organics\",\n",
      " \"Metal\",\n",
      " \"Plastic\"\n",
      "]\n"
     ]
    }
   ],
   "source": [
    "import json \n",
    "class_names = df.prediction.value_counts().index.tolist()\n",
    "print(json.dumps(class_names, indent=1))"
   ]
  },
  {
   "cell_type": "code",
   "execution_count": null,
   "metadata": {},
   "outputs": [],
   "source": []
  }
 ],
 "metadata": {
  "kernelspec": {
   "display_name": "Python 3 (ipykernel)",
   "language": "python",
   "name": "python3"
  },
  "language_info": {
   "codemirror_mode": {
    "name": "ipython",
    "version": 3
   },
   "file_extension": ".py",
   "mimetype": "text/x-python",
   "name": "python",
   "nbconvert_exporter": "python",
   "pygments_lexer": "ipython3",
   "version": "3.9.9"
  }
 },
 "nbformat": 4,
 "nbformat_minor": 4
}
