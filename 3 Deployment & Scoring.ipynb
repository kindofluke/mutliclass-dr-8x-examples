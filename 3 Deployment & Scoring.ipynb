{
 "cells": [
  {
   "cell_type": "markdown",
   "metadata": {},
   "source": [
    "# Deployment and Scoring\n",
    "\n",
    "Datarobot does not apply \"thresholds\" to multiclass predictions. Rather, the \"prediction\" is simply the class with the highest probablity. In some use cases, this can be problematic. Customers may want systems that withhold prediction of a class unless the probablity exceeds some threshold. This can be supported using a \"sidecar\" external deployment for monitoring. The end result is two deployments:\n",
    "\n",
    "1. The original DataRobot model: This will be used for scoring. \n",
    "2. An \"external\" deployment: Which will be used for monitoring predictions with thresholds applied. \n",
    "\n",
    "This example uses the [datarobot-mlops-connected-client](https://pypi.org/project/datarobot-mlops-connected-client/8.2.14/) library which is available from Pypi but also can be found in the MLOps package under Developer Tools in the DataRobot application. \n",
    "\n",
    "For this example, set environment variables for DATAROBOT_API_TOKEN, DATAROBOT_ENDPOINT. The MLOps client will read these values from environment variables making authentication easier. \n",
    "## Deploy the DataRobot Model"
   ]
  },
  {
   "cell_type": "code",
   "execution_count": 1,
   "metadata": {},
   "outputs": [
    {
     "name": "stdout",
     "output_type": "stream",
     "text": [
      "Deploying M4: Keras Slim Residual Neural Network Classifier using Training Schedule (1 Layer: 64 Units)\n"
     ]
    },
    {
     "name": "stderr",
     "output_type": "stream",
     "text": [
      "/var/folders/6b/2glp1m_n67zcbccwktyhbjx80000gq/T/ipykernel_65270/122689330.py:7: DataRobotDeprecationWarning: `blueprint` has been deprecated in `v2.3`, will be removed in `v3.0`. Use Model.blueprint_id instead\n",
      "  print(f'''Deploying M{best_model.model_number}: {best_model.blueprint.model_type}''')\n"
     ]
    }
   ],
   "source": [
    "import datarobot as dr\n",
    "TRAINING_DATASET_ID = \"6759ceeae340977868ae9eda\" # FROM PREVIOUS NOTEBOOKS\n",
    "PROJECT_ID = \"6759e044304dbe533a7fe6a8\" # FROM PREVIOUS NOTEBOOKS \n",
    "\n",
    "best_model = dr.Project.get(PROJECT_ID).get_models()[0]\n",
    "\n",
    "print(f'''Deploying M{best_model.model_number}: {best_model.blueprint.model_type}''')"
   ]
  },
  {
   "cell_type": "code",
   "execution_count": 4,
   "metadata": {},
   "outputs": [],
   "source": [
    "original_model_deployment = dr.Deployment.create_from_learning_model(best_model.id, label=\"Multiclass Example\",\n",
    "                                                      default_prediction_server_id=\"67521300fe4b98000d28270f\" # not needed for bare metal installs\n",
    "                                                     )"
   ]
  },
  {
   "cell_type": "markdown",
   "metadata": {},
   "source": [
    "## Create the External Deployment \n",
    "\n",
    "\n",
    "An external deployment is a way to report metrics about models even though the models are being run outside of DataRobot. In this case, we can leverage an external deployment to track metrics for our predicitions after we apply thresholds and modify the output of the original model. \n",
    "\n"
   ]
  },
  {
   "cell_type": "code",
   "execution_count": 10,
   "metadata": {},
   "outputs": [],
   "source": [
    "from datarobot.mlops.connected.client import MLOpsClient\n",
    "from datarobot.mlops.constants import Constants\n",
    "import os\n",
    "\n",
    "\n",
    "# Note the endpoint should not have 'api/v2' that will be derived automatically\n",
    "mlops_client = MLOpsClient(service_url=os.getenv(\"DATAROBOT_ENDPOINT\").replace(\"api/v2\",\"\"), \n",
    "                           api_key=os.getenv(\"DATAROBOT_API_TOKEN\")\n",
    "                          )\n",
    "multi_class_params = {\n",
    "                \"name\": \"Multiclass External Threshold Monitoring\",\n",
    "                \"modelDescription\": {\n",
    "                    \"description\": \"Applies thresholding to the prediction\",\n",
    "                    \"location\": \"/tmp/myModel\"\n",
    "                },\n",
    "                \"target\": {\n",
    "                    \"type\": \"Multiclass\",\n",
    "                    \"name\": \"main_class\",\n",
    "                    \"classNames\": [\n",
    "                         \"DR_OTHER\", \n",
    "                         \"Paper\",\n",
    "                         \"Glass\",\n",
    "                         \"Food Organics\",\n",
    "                         \"Metal\",\n",
    "                         \"Plastic\"\n",
    "                        ]\n",
    "                }\n",
    "            }\n",
    "mlpkg = mlops_client.create_model_package(multi_class_params)"
   ]
  },
  {
   "cell_type": "code",
   "execution_count": 12,
   "metadata": {},
   "outputs": [],
   "source": [
    "deployment = mlops_client.deploy_model_package(model_package_id=mlpkg, label=\"Multiclass External Monitoring\", wait_for_result=True, timeout=600)"
   ]
  },
  {
   "cell_type": "markdown",
   "metadata": {},
   "source": [
    "For data drift, we need to associate some sort of known baseline to the deployment. For now, I am just going to use the training data but that may not work for all use cases. Remember to just pick a dataset with the same features and target AND that represents a baseline that you want be drifitng away from. \n",
    "\n",
    "To associate a baseline/training dataset, it must contain at least one row for each class that will appear in the predictions data. \n",
    "\n",
    "**A Note about Versions**\n",
    "Associating data with `associate_deployment_dataset` is deprecated in DataRobot 9.x and above. Instead, training data is associated to registered models which were introduced in 9.0. The code below will error in DataRobot >9.0 but will work for 8.x. "
   ]
  },
  {
   "cell_type": "code",
   "execution_count": 25,
   "metadata": {},
   "outputs": [],
   "source": [
    "import datarobot as dr \n",
    "import pandas as pd \n",
    "import tempfile \n",
    "\n",
    "with tempfile.NamedTemporaryFile() as tmpfile:\n",
    "    \n",
    "    df = dr.Dataset.get(\"675c98d9f2e4b4189bff25f5\").get_file(tmpfile.name)\n",
    "    tmpfile.seek(0)\n",
    "    rdf = pd.read_csv(tmpfile)\n",
    "\n",
    "classes_in_monitoring = [\"Paper\",\n",
    "                         \"Glass\",\n",
    "                         \"Food Organics\",\n",
    "                         \"Metal\",\n",
    "                         \"Plastic\"\n",
    "                        ]\n",
    "rdf['main_class'] = rdf['main_class'].apply(lambda class_value: class_value if class_value in classes_in_monitoring else \"DR_OTHER\")\n",
    "\n",
    "new_baseline_dataset = dr.Dataset.create_from_in_memory_data(rdf)"
   ]
  },
  {
   "cell_type": "code",
   "execution_count": 23,
   "metadata": {},
   "outputs": [
    {
     "ename": "DRMLOpsConnectedException",
     "evalue": "(('Associating training data with deployments is not allowed. Instead associate training data with the model package.',), {})",
     "output_type": "error",
     "traceback": [
      "\u001b[0;31m---------------------------------------------------------------------------\u001b[0m",
      "\u001b[0;31mDRMLOpsConnectedException\u001b[0m                 Traceback (most recent call last)",
      "Cell \u001b[0;32mIn[23], line 2\u001b[0m\n\u001b[1;32m      1\u001b[0m \u001b[38;5;28;01mfrom\u001b[39;00m \u001b[38;5;21;01mdatarobot\u001b[39;00m\u001b[38;5;21;01m.\u001b[39;00m\u001b[38;5;21;01mmlops\u001b[39;00m\u001b[38;5;21;01m.\u001b[39;00m\u001b[38;5;21;01mconnected\u001b[39;00m\u001b[38;5;21;01m.\u001b[39;00m\u001b[38;5;21;01menums\u001b[39;00m \u001b[38;5;28;01mimport\u001b[39;00m DatasetSourceType\n\u001b[0;32m----> 2\u001b[0m \u001b[43mmlops_client\u001b[49m\u001b[38;5;241;43m.\u001b[39;49m\u001b[43massociate_deployment_dataset\u001b[49m\u001b[43m(\u001b[49m\u001b[43mdeployment_id\u001b[49m\u001b[38;5;241;43m=\u001b[39;49m\u001b[43mdeployment\u001b[49m\u001b[43m,\u001b[49m\u001b[43m \u001b[49m\n\u001b[1;32m      3\u001b[0m \u001b[43m                                          \u001b[49m\u001b[43mdataset_id\u001b[49m\u001b[38;5;241;43m=\u001b[39;49m\u001b[43mTRAINING_DATASET_ID\u001b[49m\u001b[43m,\u001b[49m\n\u001b[1;32m      4\u001b[0m \u001b[43m                                          \u001b[49m\u001b[43mdata_source_type\u001b[49m\u001b[43m \u001b[49m\u001b[38;5;241;43m=\u001b[39;49m\u001b[43m \u001b[49m\u001b[43mDatasetSourceType\u001b[49m\u001b[38;5;241;43m.\u001b[39;49m\u001b[43mTRAINING\u001b[49m\u001b[43m)\u001b[49m \n",
      "File \u001b[0;32m~/Projects/mit-ll/venv/lib/python3.9/site-packages/datarobot/mlops/connected/client.py:450\u001b[0m, in \u001b[0;36mMLOpsClient.associate_deployment_dataset\u001b[0;34m(self, deployment_id, dataset_id, data_source_type, timeout, dry_run)\u001b[0m\n\u001b[1;32m    446\u001b[0m     \u001b[38;5;28;01mraise\u001b[39;00m DRUnsupportedType(\u001b[38;5;124m\"\u001b[39m\u001b[38;5;124mdata_source_type must be of type \u001b[39m\u001b[38;5;124m'\u001b[39m\u001b[38;5;132;01m{}\u001b[39;00m\u001b[38;5;124m'\u001b[39m\u001b[38;5;124m\"\u001b[39m\n\u001b[1;32m    447\u001b[0m                             \u001b[38;5;241m.\u001b[39mformat(DatasetSourceType))\n\u001b[1;32m    449\u001b[0m \u001b[38;5;28;01mif\u001b[39;00m data_source_type \u001b[38;5;241m==\u001b[39m DatasetSourceType\u001b[38;5;241m.\u001b[39mTRAINING:\n\u001b[0;32m--> 450\u001b[0m     \u001b[38;5;28;01mraise\u001b[39;00m DRMLOpsConnectedException(\n\u001b[1;32m    451\u001b[0m         \u001b[38;5;124m\"\u001b[39m\u001b[38;5;124mAssociating training data with deployments is not allowed. \u001b[39m\u001b[38;5;124m\"\u001b[39m\n\u001b[1;32m    452\u001b[0m         \u001b[38;5;124m\"\u001b[39m\u001b[38;5;124mInstead associate training data with the model package.\u001b[39m\u001b[38;5;124m\"\u001b[39m)\n\u001b[1;32m    454\u001b[0m \u001b[38;5;28;01mif\u001b[39;00m data_source_type \u001b[38;5;241m!=\u001b[39m DatasetSourceType\u001b[38;5;241m.\u001b[39mSCORING:\n\u001b[1;32m    455\u001b[0m     \u001b[38;5;28;01mraise\u001b[39;00m DRMLOpsConnectedException(\n\u001b[1;32m    456\u001b[0m         \u001b[38;5;124m\"\u001b[39m\u001b[38;5;124mInvalid data source type \u001b[39m\u001b[38;5;124m'\u001b[39m\u001b[38;5;132;01m{}\u001b[39;00m\u001b[38;5;124m'\u001b[39m\u001b[38;5;124m\"\u001b[39m\u001b[38;5;241m.\u001b[39mformat(data_source_type))\n",
      "\u001b[0;31mDRMLOpsConnectedException\u001b[0m: (('Associating training data with deployments is not allowed. Instead associate training data with the model package.',), {})"
     ]
    }
   ],
   "source": [
    "from datarobot.mlops.connected.enums import DatasetSourceType\n",
    "mlops_client.associate_deployment_dataset(deployment_id=deployment, \n",
    "                                          dataset_id=new_baseline_dataset.id,\n",
    "                                          data_source_type = DatasetSourceType.TRAINING) \n",
    "                                          "
   ]
  },
  {
   "cell_type": "markdown",
   "metadata": {},
   "source": [
    "Now we will enable tracking features on the external deployment."
   ]
  },
  {
   "cell_type": "code",
   "execution_count": 64,
   "metadata": {},
   "outputs": [],
   "source": [
    "mlops_client.update_deployment_settings(target_drift=True, feature_drift=True, deployment_id=deployment)"
   ]
  },
  {
   "cell_type": "markdown",
   "metadata": {},
   "source": [
    "## Scoring \n",
    "For scoring, we will use the original model but then apply our thresholding and then report results to the final model. We are taking a sample from one specific class in order to simulate drift. "
   ]
  },
  {
   "cell_type": "code",
   "execution_count": 41,
   "metadata": {},
   "outputs": [],
   "source": [
    "sample_to_score = rdf[rdf.main_class == 'Metal'].sample(50)\n"
   ]
  },
  {
   "cell_type": "code",
   "execution_count": 42,
   "metadata": {},
   "outputs": [],
   "source": [
    "original_model_deployment = dr.Deployment.get(\"6759e8aebd38a7fca6ba234a\")"
   ]
  },
  {
   "cell_type": "code",
   "execution_count": 50,
   "metadata": {},
   "outputs": [
    {
     "name": "stdout",
     "output_type": "stream",
     "text": [
      "Streaming DataFrame as CSV data to DataRobot\n",
      "Created Batch Prediction job ID 675c9fa18ca34350edaf3cc0\n",
      "Waiting for DataRobot to start processing\n",
      "Job has started processing at DataRobot. Streaming results.\n"
     ]
    },
    {
     "data": {
      "text/html": [
       "<div>\n",
       "<style scoped>\n",
       "    .dataframe tbody tr th:only-of-type {\n",
       "        vertical-align: middle;\n",
       "    }\n",
       "\n",
       "    .dataframe tbody tr th {\n",
       "        vertical-align: top;\n",
       "    }\n",
       "\n",
       "    .dataframe thead th {\n",
       "        text-align: right;\n",
       "    }\n",
       "</style>\n",
       "<table border=\"1\" class=\"dataframe\">\n",
       "  <thead>\n",
       "    <tr style=\"text-align: right;\">\n",
       "      <th></th>\n",
       "      <th>main_class</th>\n",
       "      <th>image</th>\n",
       "      <th>main_class_DR_OTHER_PREDICTION</th>\n",
       "      <th>main_class_Food Organics_PREDICTION</th>\n",
       "      <th>main_class_Glass_PREDICTION</th>\n",
       "      <th>main_class_Metal_PREDICTION</th>\n",
       "      <th>main_class_Paper_PREDICTION</th>\n",
       "      <th>main_class_Plastic_PREDICTION</th>\n",
       "      <th>main_class_PREDICTION</th>\n",
       "      <th>DEPLOYMENT_APPROVAL_STATUS</th>\n",
       "    </tr>\n",
       "  </thead>\n",
       "  <tbody>\n",
       "    <tr>\n",
       "      <th>150</th>\n",
       "      <td>Metal</td>\n",
       "      <td>/9j/4AAQSkZJRgABAQAAAQABAAD/2wBDAAUDBAQEAwUEBA...</td>\n",
       "      <td>0.002047</td>\n",
       "      <td>0.000518</td>\n",
       "      <td>0.001296</td>\n",
       "      <td>0.992474</td>\n",
       "      <td>0.001351</td>\n",
       "      <td>0.002314</td>\n",
       "      <td>Metal</td>\n",
       "      <td>APPROVED</td>\n",
       "    </tr>\n",
       "    <tr>\n",
       "      <th>169</th>\n",
       "      <td>Metal</td>\n",
       "      <td>/9j/4AAQSkZJRgABAQAAAQABAAD/2wBDAAUDBAQEAwUEBA...</td>\n",
       "      <td>0.001926</td>\n",
       "      <td>0.000113</td>\n",
       "      <td>0.000936</td>\n",
       "      <td>0.972959</td>\n",
       "      <td>0.021576</td>\n",
       "      <td>0.002490</td>\n",
       "      <td>Metal</td>\n",
       "      <td>APPROVED</td>\n",
       "    </tr>\n",
       "    <tr>\n",
       "      <th>171</th>\n",
       "      <td>Metal</td>\n",
       "      <td>/9j/4AAQSkZJRgABAQAAAQABAAD/2wBDAAUDBAQEAwUEBA...</td>\n",
       "      <td>0.001013</td>\n",
       "      <td>0.000128</td>\n",
       "      <td>0.001456</td>\n",
       "      <td>0.995682</td>\n",
       "      <td>0.000295</td>\n",
       "      <td>0.001426</td>\n",
       "      <td>Metal</td>\n",
       "      <td>APPROVED</td>\n",
       "    </tr>\n",
       "    <tr>\n",
       "      <th>159</th>\n",
       "      <td>Metal</td>\n",
       "      <td>/9j/4AAQSkZJRgABAQAAAQABAAD/2wBDAAUDBAQEAwUEBA...</td>\n",
       "      <td>0.003860</td>\n",
       "      <td>0.000425</td>\n",
       "      <td>0.000548</td>\n",
       "      <td>0.982924</td>\n",
       "      <td>0.006876</td>\n",
       "      <td>0.005367</td>\n",
       "      <td>Metal</td>\n",
       "      <td>APPROVED</td>\n",
       "    </tr>\n",
       "    <tr>\n",
       "      <th>199</th>\n",
       "      <td>Metal</td>\n",
       "      <td>/9j/4AAQSkZJRgABAQAAAQABAAD/2wBDAAUDBAQEAwUEBA...</td>\n",
       "      <td>0.009969</td>\n",
       "      <td>0.000901</td>\n",
       "      <td>0.003317</td>\n",
       "      <td>0.975838</td>\n",
       "      <td>0.002484</td>\n",
       "      <td>0.007490</td>\n",
       "      <td>Metal</td>\n",
       "      <td>APPROVED</td>\n",
       "    </tr>\n",
       "  </tbody>\n",
       "</table>\n",
       "</div>"
      ],
      "text/plain": [
       "    main_class                                              image  \\\n",
       "150      Metal  /9j/4AAQSkZJRgABAQAAAQABAAD/2wBDAAUDBAQEAwUEBA...   \n",
       "169      Metal  /9j/4AAQSkZJRgABAQAAAQABAAD/2wBDAAUDBAQEAwUEBA...   \n",
       "171      Metal  /9j/4AAQSkZJRgABAQAAAQABAAD/2wBDAAUDBAQEAwUEBA...   \n",
       "159      Metal  /9j/4AAQSkZJRgABAQAAAQABAAD/2wBDAAUDBAQEAwUEBA...   \n",
       "199      Metal  /9j/4AAQSkZJRgABAQAAAQABAAD/2wBDAAUDBAQEAwUEBA...   \n",
       "\n",
       "     main_class_DR_OTHER_PREDICTION  main_class_Food Organics_PREDICTION  \\\n",
       "150                        0.002047                             0.000518   \n",
       "169                        0.001926                             0.000113   \n",
       "171                        0.001013                             0.000128   \n",
       "159                        0.003860                             0.000425   \n",
       "199                        0.009969                             0.000901   \n",
       "\n",
       "     main_class_Glass_PREDICTION  main_class_Metal_PREDICTION  \\\n",
       "150                     0.001296                     0.992474   \n",
       "169                     0.000936                     0.972959   \n",
       "171                     0.001456                     0.995682   \n",
       "159                     0.000548                     0.982924   \n",
       "199                     0.003317                     0.975838   \n",
       "\n",
       "     main_class_Paper_PREDICTION  main_class_Plastic_PREDICTION  \\\n",
       "150                     0.001351                       0.002314   \n",
       "169                     0.021576                       0.002490   \n",
       "171                     0.000295                       0.001426   \n",
       "159                     0.006876                       0.005367   \n",
       "199                     0.002484                       0.007490   \n",
       "\n",
       "    main_class_PREDICTION DEPLOYMENT_APPROVAL_STATUS  \n",
       "150                 Metal                   APPROVED  \n",
       "169                 Metal                   APPROVED  \n",
       "171                 Metal                   APPROVED  \n",
       "159                 Metal                   APPROVED  \n",
       "199                 Metal                   APPROVED  "
      ]
     },
     "execution_count": 50,
     "metadata": {},
     "output_type": "execute_result"
    }
   ],
   "source": [
    "from time import time\n",
    "start_time = time()\n",
    "\n",
    "_ , predictions = dr.BatchPredictionJob.score_pandas(original_model_deployment, df=sample_to_score)\n",
    "end_time = time()\n",
    "predictions.head()"
   ]
  },
  {
   "cell_type": "code",
   "execution_count": 45,
   "metadata": {},
   "outputs": [
    {
     "data": {
      "text/plain": [
       "main_class                              object\n",
       "image                                   object\n",
       "main_class_DR_OTHER_PREDICTION         float64\n",
       "main_class_Food Organics_PREDICTION    float64\n",
       "main_class_Glass_PREDICTION            float64\n",
       "main_class_Metal_PREDICTION            float64\n",
       "main_class_Paper_PREDICTION            float64\n",
       "main_class_Plastic_PREDICTION          float64\n",
       "main_class_PREDICTION                   object\n",
       "DEPLOYMENT_APPROVAL_STATUS              object\n",
       "dtype: object"
      ]
     },
     "execution_count": 45,
     "metadata": {},
     "output_type": "execute_result"
    }
   ],
   "source": [
    "predictions.dtypes"
   ]
  },
  {
   "cell_type": "code",
   "execution_count": 62,
   "metadata": {},
   "outputs": [
    {
     "data": {
      "text/plain": [
       "main_class_Metal_PREDICTION    47\n",
       "DR_OTHER                        3\n",
       "Name: threshold_prediction, dtype: int64"
      ]
     },
     "execution_count": 62,
     "metadata": {},
     "output_type": "execute_result"
    }
   ],
   "source": [
    "THRESHOLD = 0.75\n",
    "TARGET_NAME = \"main_class\"\n",
    "\n",
    "# class probabilities will be the name of the target followed by an underscore\n",
    "class_columns = [col for col in predictions.columns if (col.startswith('main_class_') and col != \"main_class_PREDICTION\") ]\n",
    "class_names = [col.replace(TARGET_NAME + \"_\", \"\").replace(\"_PREDICTION\", \"\") for col in class_columns]\n",
    "\n",
    "predictions['threshold_prediction'] = predictions[class_columns].apply(\n",
    "    lambda row: next(\n",
    "        (col for col, val in row.items() if val > THRESHOLD), \n",
    "        'DR_OTHER'\n",
    "    ),\n",
    "    axis=1\n",
    ")\n",
    "\n",
    "predictions['threshold_prediction'].value_counts()"
   ]
  },
  {
   "cell_type": "markdown",
   "metadata": {},
   "source": [
    "### Report to DataRobot \n",
    "\n",
    "The format for this call (which reports the data) can be a little tricky:\n",
    "\n",
    "1. `data`: Pass in the prediction dataframe\n",
    "2. `deployment_id`: the external deployment you are using for monitoring.\n",
    "3. `model_id`: the model package id created above.\n",
    "4. `association_ids`: this is a unique identifier for each prediction. This is a unique identifier for the prediciton that will be used to report actuals. More information on this is [in the docs](https://docs.datarobot.com/en/docs/get-started/glossary/index.html#association-id)\n",
    "5. `prediction_cols:` a listing of columns in the data that have the probablities of each class.\n",
    "6. `class_names`: the names of each class in the same order as the columns.\n",
    "\n"
   ]
  },
  {
   "cell_type": "code",
   "execution_count": 63,
   "metadata": {},
   "outputs": [
    {
     "data": {
      "text/plain": [
       "({'message': 'ok'}, 848856)"
      ]
     },
     "execution_count": 63,
     "metadata": {},
     "output_type": "execute_result"
    }
   ],
   "source": [
    "# first report that the predictions occured\n",
    "\n",
    "\n",
    "\n",
    "await mlops_client.report_deployment_stats(\n",
    "deployment_id=deployment, \n",
    "model_id=mlpkg, \n",
    "num_predictions=len(predictions),\n",
    "execution_time_ms=end_time - start_time\n",
    ")\n",
    "\n",
    "\n",
    "# then report the predictions data\n",
    "await mlops_client.report_prediction_data(\n",
    "    data=predictions, \n",
    "    deployment_id=deployment, \n",
    "model_id=mlpkg, \n",
    "association_ids=[str(r) for r in predictions.index.tolist()], # should be unique identifier for the prediction used for acutals, must be string\n",
    "prediction_cols=class_columns,\n",
    "class_names=class_names\n",
    "    # there are also inputs for feature data as well. \n",
    ")\n"
   ]
  },
  {
   "cell_type": "code",
   "execution_count": null,
   "metadata": {},
   "outputs": [],
   "source": []
  }
 ],
 "metadata": {
  "kernelspec": {
   "display_name": "Python 3 (ipykernel)",
   "language": "python",
   "name": "python3"
  },
  "language_info": {
   "codemirror_mode": {
    "name": "ipython",
    "version": 3
   },
   "file_extension": ".py",
   "mimetype": "text/x-python",
   "name": "python",
   "nbconvert_exporter": "python",
   "pygments_lexer": "ipython3",
   "version": "3.9.9"
  }
 },
 "nbformat": 4,
 "nbformat_minor": 4
}
