{
 "cells": [
  {
   "cell_type": "markdown",
   "metadata": {},
   "source": [
    "# Retraining Policies\n",
    "\n",
    "Retraining closes the loop of the model lifecycle. It helps to ensure that the best performing model with latest available data is always ready to go. \n",
    "\n",
    "DataRobot provides [broad support for retraining policies](https://docs.datarobot.com/en/docs/workbench/nxt-console/nxt-mitigation/nxt-retraining.html#retraining) which will automate the process of creating a new model (and deploying it if needed). First some definitions: \n",
    "\n",
    "A retraining policy has three parts:\n",
    "\n",
    "1. **Trigger:** This determines when the policy runs. The three \"triggers\" available: Scheduled, like \"every Friday\", Accuracy Status (when accuracy falls below X threshold), or Drift Status. \n",
    "2. **Selection:** DataRobot will create a AutoML/AutoTS project that will train a series of model. \"Selection\" criteria determines which model will be selected as the new retrained model. \n",
    "3. **Action:** Deterimines what happens to the candidate model once it has been retrained and evaluated. The options are to replace the model in the deployment, add it as a challenger where it will run in parallel, or simply save it until needed. \n",
    "\n",
    "\n",
    "In addition to the above components, retraining policies can have a range of different options for the retraining project. \n",
    "\n",
    "Retraining policies primarily use the DataRobot REST API. We will use the DataRobot Python API Client to bootstrap authentication and access to the REST API Calls. You can access the REST API documenation by using the \"?\" documentation app in DataRobot. This ensures you view the version of the documentation matched to your installed system. \n",
    "\n",
    "\n"
   ]
  },
  {
   "cell_type": "code",
   "execution_count": null,
   "metadata": {},
   "outputs": [],
   "source": [
    "# Create and save the DataRobot Client (reading auth from envionment variables)\n",
    "\n",
    "import datarobot as dr\n",
    "\n",
    "client = dr.Client()\n",
    "deployment = dr.Deployment.get(\"6759e8aebd38a7fca6ba234a\")  # Update with your deployment id. \n",
    "deployment.update_challenger_models_settings(challenger_models_enabled=True) \n"
   ]
  },
  {
   "cell_type": "markdown",
   "metadata": {},
   "source": [
    "Before creating a retraining policy, we identify the user and dataset to use for retraining. "
   ]
  },
  {
   "cell_type": "code",
   "execution_count": 10,
   "metadata": {},
   "outputs": [
    {
     "name": "stdout",
     "output_type": "stream",
     "text": [
      "204\n"
     ]
    }
   ],
   "source": [
    "RAW_DATASET_ID = \"675c98d9f2e4b4189bff25f5\"\n",
    "PREDICTION_SERVER = \"67521300fe4b98000d28270f\"\n",
    "RETRAINING_USER_ID = deployment.owners['preview'][0]['id'] # User who created the deployment. \n",
    "\n",
    "body = {\n",
    "  \"datasetId\": RAW_DATASET_ID,\n",
    "  \"predictionEnvironmentId\": PREDICTION_SERVER,\n",
    "  \"retrainingUserId\": RETRAINING_USER_ID\n",
    "}\n",
    "\n",
    "resp = client.patch(f\"deployments/{deployment.id}/retrainingSettings\", json=body)\n",
    "print(resp.status_code) # Should be 204\n",
    "\n"
   ]
  },
  {
   "cell_type": "markdown",
   "metadata": {},
   "source": [
    "The following implements a Drift Detection policy for our deployment from the previous notebooks. "
   ]
  },
  {
   "cell_type": "code",
   "execution_count": null,
   "metadata": {},
   "outputs": [
    {
     "name": "stdout",
     "output_type": "stream",
     "text": [
      "{\"id\": \"676a1b31cc716b9b02468059\", \"name\": \"MultiClass Drift Tracking Policy\", \"description\": null, \"trigger\": {\"type\": \"data_drift_decline\", \"schedule\": {\"minute\": [0], \"hour\": [0], \"dayOfMonth\": [\"*\"], \"month\": [\"*\"], \"dayOfWeek\": [\"*\"]}, \"statusDeclinesToFailing\": false, \"statusDeclinesToWarning\": true, \"statusStillInDecline\": false, \"minIntervalBetweenRuns\": null, \"customJobId\": null}, \"projectOptions\": {\"cvMethod\": \"RandomCV\", \"validationType\": \"CV\", \"reps\": null, \"validationPct\": null, \"holdoutPct\": null, \"metric\": \"Accuracy\"}, \"timeSeriesOptions\": {\"treatAsExponential\": null, \"differencingMethod\": null, \"periodicities\": null, \"exponentiallyWeightedMovingAlpha\": null, \"calendarId\": null}, \"autopilotOptions\": {\"mode\": \"auto\", \"blendBestModels\": false, \"scoringCodeOnly\": false, \"runLeakageRemovedFeatureList\": true, \"shapOnlyMode\": false}, \"featureListStrategy\": \"informative_features\", \"projectOptionsStrategy\": \"same_as_champion\", \"modelSelectionStrategy\": \"autopilot_recommended\", \"action\": \"create_challenger\", \"latestRun\": null, \"customJob\": null}\n"
     ]
    }
   ],
   "source": [
    "\n",
    "POLICY_NAME = \"MultiClass Drift Tracking Policy\"\n",
    "\n",
    "body = {\n",
    "  \"action\": \"create_challenger\",\n",
    "  \"autopilotOptions\": {\n",
    "    \"blendBestModels\": False,\n",
    "    \"mode\": \"auto\",\n",
    "    \"runLeakageRemovedFeatureList\": True,\n",
    "    \"scoringCodeOnly\": False,\n",
    "    \"shapOnlyMode\": False\n",
    "  },\n",
    "  \"description\": None,\n",
    "  \"featureListStrategy\": \"informative_features\",\n",
    "  \"modelSelectionStrategy\": \"autopilot_recommended\",\n",
    "  \"name\": POLICY_NAME,\n",
    "  \"projectOptions\": {\n",
    "    \"cvMethod\": \"RandomCV\",\n",
    "    \"holdoutPct\": None,\n",
    "    \"metric\": \"Accuracy\",\n",
    "    \"reps\": None,\n",
    "    \"validationPct\": None,\n",
    "    \"validationType\": \"CV\"\n",
    "  },\n",
    "  \"projectOptionsStrategy\": \"same_as_champion\", # Any class aggregation settings are inherited here. \n",
    "  \"trigger\": {\n",
    "    \"minIntervalBetweenRuns\": None,\n",
    "    \"schedule\": {\n",
    "      \"dayOfMonth\": [\n",
    "        \"*\"\n",
    "      ],\n",
    "      \"dayOfWeek\": [\n",
    "        \"*\"\n",
    "      ],\n",
    "      \"hour\": [\n",
    "        0\n",
    "      ],\n",
    "      \"minute\": [\n",
    "        0\n",
    "      ],\n",
    "      \"month\": [\n",
    "        \"*\"\n",
    "      ]\n",
    "    },\n",
    "    \"statusDeclinesToFailing\": False,\n",
    "    \"statusDeclinesToWarning\": True,\n",
    "    \"statusStillInDecline\": False,\n",
    "    \"type\": \"data_drift_decline\"\n",
    "  }\n",
    "}\n",
    "url = f\"deployments/{deployment.id}/retrainingPolicies/\"\n",
    "resp = client.post(url, json=body)\n",
    "print(resp.text)\n"
   ]
  }
 ],
 "metadata": {
  "kernelspec": {
   "display_name": "venv",
   "language": "python",
   "name": "python3"
  },
  "language_info": {
   "codemirror_mode": {
    "name": "ipython",
    "version": 3
   },
   "file_extension": ".py",
   "mimetype": "text/x-python",
   "name": "python",
   "nbconvert_exporter": "python",
   "pygments_lexer": "ipython3",
   "version": "3.9.9"
  }
 },
 "nbformat": 4,
 "nbformat_minor": 2
}
